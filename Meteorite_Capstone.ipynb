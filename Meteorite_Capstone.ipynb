{
 "cells": [
  {
   "cell_type": "code",
   "execution_count": 17,
   "id": "58a8c615",
   "metadata": {},
   "outputs": [
    {
     "name": "stdout",
     "output_type": "stream",
     "text": [
      "Year 2024: 17 meteorites fell to Earth\n",
      "Size of each meteor(lbs): [0.6623744505104189, 0.06531463324612963, 0.8154104900117425, 0.8764523451106069, 0.5019314004038061, 0.35632488201534573, 0.1694849985810568, 0.9723560120073217, 0.8113230798374634, 0.8775133728040568, 0.624198640732468, 0.2140517099244964, 0.4050145285113781, 0.7381762167362681, 0.9570042055158358, 0.24590151291213513, 0.49314933467810673]\n",
      "Year 2025: 16 meteorites fell to Earth\n",
      "Size of each meteor(lbs): [0.519167510783212, 0.061670696768475475, 0.1742051347135577, 18.952874808013522, 0.24558572167917259, 0.3014453218807287, 0.8950628680134758, 0.4345217929093317, 0.23747748738270302, 0.2093455924384029, 0.6604575946016814, 0.4086208787427539, 0.27234494493780903, 0.0282519098465559, 0.33489282029403245, 4.912042670783745]\n",
      "Year 2026: 15 meteorites fell to Earth\n",
      "Size of each meteor(lbs): [0.2270992728777278, 0.07003667568691763, 0.5991308225097116, 0.9714469460552946, 0.029982677247980538, 13.915281931428357, 0.2188647782661104, 0.4890318706551914, 0.6459046222701909, 0.6706668769471414, 0.6433666464863642, 0.7012074830724495, 0.22372716208457355, 6.417439674831728, 1.1701091158390104]\n",
      "Year 2027: 15 meteorites fell to Earth\n",
      "Size of each meteor(lbs): [0.9997767240749031, 0.9623142626956078, 0.7053577310021281, 0.7448703765796365, 0.3180836667329312, 0.4102392338587382, 0.5016559637821907, 0.17195753906612, 0.6476371590916147, 11.585264569776657, 79.11093879964614, 0.9601767396839115, 1.3258008404633648, 0.8122584206933925, 0.990280113132171]\n",
      "Year 2028: 14 meteorites fell to Earth\n",
      "Size of each meteor(lbs): [7.6397248163201255, 0.6071103799264905, 0.20882501628982086, 0.36697328102931503, 0.29467202013154425, 0.4369222635953772, 0.3729088734735908, 0.16843212194548196, 0.14884054397257596, 0.3315391930058613, 0.025431578393597, 0.5988815660814654, 0.15211512189573506, 0.015509391160597241]\n",
      "Year 2029: 14 meteorites fell to Earth\n",
      "Size of each meteor(lbs): [0.314972457474633, 1.5440548316372336, 0.8517557778067014, 18.822564415359043, 0.01852798122854049, 0.5069017794968428, 0.8072791682230435, 0.9987076900711839, 73.25082547820696, 0.9563137953318569, 0.08778320649438442, 0.6794232122625185, 0.22838905513732033, 0.9892382421352657]\n",
      "Year 2030: 15 meteorites fell to Earth\n",
      "Size of each meteor(lbs): [0.30412216942601267, 0.24339862396525525, 0.8800507352819081, 0.28290154510367593, 0.3787690599846123, 0.35060301744522304, 0.1442459088429049, 0.4688245187102592, 0.3162207269244405, 0.04194880949032609, 0.6088628492953346, 0.28490766224908126, 0.13497721060580292, 0.8308275061832577, 0.6831482834365064]\n",
      "Year 2031: 14 meteorites fell to Earth\n",
      "Size of each meteor(lbs): [0.7128408597286083, 0.49368069990072616, 0.848290428860252, 0.08853731026013711, 0.7232794901439362, 0.22218795076759257, 0.114772663866614, 0.4685507031002335, 0.8391869930793815, 0.2989504760644286, 34.612530348502276, 0.6129746342087972, 0.023353972395337985, 1.3878516587518632]\n",
      "Year 2032: 15 meteorites fell to Earth\n",
      "Size of each meteor(lbs): [0.9998547313860355, 0.49025811899836713, 0.95222689456381, 0.12589113652471406, 1.195365511148578, 0.13218476707174698, 16.893917758052204, 0.7986181755305204, 0.43499595848511097, 79.22545138114413, 0.27647422673926003, 14.358825759827521, 0.6522390337267782, 0.39078832182591505, 0.07587532575923339]\n",
      "Year 2033: 15 meteorites fell to Earth\n",
      "Size of each meteor(lbs): [1.6226874740721138, 0.08857022122983627, 0.13294582305036984, 0.9314756383382681, 0.7808630480521828, 0.6317876663762277, 62.44134934149079, 0.058206092693082634, 0.5022329305390137, 0.54576763702695, 0.0468458037886923, 0.04038949610854592, 0.5766299538547482, 0.5881465906992817, 0.6573723366659072]\n"
     ]
    }
   ],
   "source": [
    "import random\n",
    "\n",
    "def simulate_meteorite(years):\n",
    "    # Percentage of total meteorites by mass group. Data obtained in R\n",
    "    meteor_percentage = {\"Pebble\": 0.845185066,\n",
    "                         \"Very Small\": 0.045969805,\n",
    "                         \"Small\": 0.077391444,\n",
    "                         \"Medium\": 0.021022272,\n",
    "                         \"Large\": 0.009004967,\n",
    "                         \"Very Large\": 0.001506169,\n",
    "                         \"Enormous\": 0.000192277}\n",
    "    \n",
    "    # Meteorite sizes in each mass group\n",
    "    meteor_sizes = {\"Pebble\": [0, 1],\n",
    "                    \"Very Small\": [1, 2],\n",
    "                    \"Small\": [2, 20],\n",
    "                    \"Medium\": [20, 100],\n",
    "                    \"Large\": [100, 1000],\n",
    "                    \"Very Large\": [1000, 10000],\n",
    "                    \"Enormous\": [10000, 10000000]}\n",
    "    \n",
    "    # Rate per year that meteorites land on Earth. Data obtained in R\n",
    "    meteor_rate = 15.50173869846\n",
    "    \n",
    "    # list of count of meteorites that fall per year\n",
    "    meteor_count = {year: 0 for year in range(years)}\n",
    "    \n",
    "    # list of the size of each meteorite that falls each year\n",
    "    meteor_size = {year: [] for year in range(years)}\n",
    "    \n",
    "    # Simulates the meteorite falls for the given number of years\n",
    "    for year in range(years):\n",
    "        num_meteors = int(meteor_rate + random.gauss(0, 1))\n",
    "        meteor_count[year] = num_meteors\n",
    "        \n",
    "        # Simulates the size of each meteorite that falls in this year\n",
    "        for i in range(num_meteors):\n",
    "            mass_group = random.choices(list(meteor_percentage.keys()),\n",
    "                                        weights=list(meteor_percentage.values()),\n",
    "                                        k=1)[0]\n",
    "            \n",
    "            # Randomly selects a size of the meteorite\n",
    "            meteor_mass = random.uniform(*meteor_sizes[mass_group])\n",
    "            meteor_size[year].append(meteor_mass)\n",
    "    \n",
    "    # Prints a breakdown of  the amount and the mass of every meteorite that hit per year\n",
    "    for year in range(years):\n",
    "        print(f\"Year {year + 2024}: {meteor_count[year]} meteorites fell to Earth\")\n",
    "        print(f\"Size of each meteor(lbs): {meteor_size[year]}\")\n",
    "\n",
    "\n",
    "\n",
    "simulate_meteorite(10)\n"
   ]
  },
  {
   "cell_type": "code",
   "execution_count": null,
   "id": "9712210e",
   "metadata": {},
   "outputs": [],
   "source": []
  }
 ],
 "metadata": {
  "kernelspec": {
   "display_name": "Python 3 (ipykernel)",
   "language": "python",
   "name": "python3"
  },
  "language_info": {
   "codemirror_mode": {
    "name": "ipython",
    "version": 3
   },
   "file_extension": ".py",
   "mimetype": "text/x-python",
   "name": "python",
   "nbconvert_exporter": "python",
   "pygments_lexer": "ipython3",
   "version": "3.9.12"
  }
 },
 "nbformat": 4,
 "nbformat_minor": 5
}
