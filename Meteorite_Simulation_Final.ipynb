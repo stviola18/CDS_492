{
 "cells": [
  {
   "cell_type": "code",
   "execution_count": 4,
   "id": "9342ed38",
   "metadata": {},
   "outputs": [],
   "source": [
    "import random\n",
    "import numpy as np\n",
    "import pandas as pd\n",
    "\n",
    "def simulate_meteorite_dataset(years):\n",
    "    # Percentage of total meteorites by mass group. Data obtained in R\n",
    "    meteor_percentage = {\"Pebble\": 0.845185066,\n",
    "                         \"Very Small\": 0.045969805,\n",
    "                         \"Small\": 0.077391444,\n",
    "                         \"Medium\": 0.021022272,\n",
    "                         \"Large\": 0.009004967,\n",
    "                         \"Very Large\": 0.001506169,\n",
    "                         \"Enormous\": 0.000192277}\n",
    "    \n",
    "    # Meteorite sizes in each mass group\n",
    "    meteor_sizes = {\"Pebble\": [0, 1],\n",
    "                    \"Very Small\": [1, 2],\n",
    "                    \"Small\": [2, 20],\n",
    "                    \"Medium\": [20, 100],\n",
    "                    \"Large\": [100, 1000],\n",
    "                    \"Very Large\": [1000, 10000],\n",
    "                    \"Enormous\": [10000, 10000000]}\n",
    "    \n",
    "    # Create an empty dataframe to hold the meteorite data\n",
    "    meteor_data2 = pd.DataFrame(columns=[\"year\", \"mass\"])\n",
    "    \n",
    "    # Rate per year that meteorites land on Earth. Data obtained in R\n",
    "    mean_rate = 738.65\n",
    "    sd_rate = 665.831446677472\n",
    "    meteor_rate = np.random.normal(mean_rate, sd_rate, years)\n",
    "    meteor_count = [max(0, int(rate)) for rate in meteor_rate]\n",
    "    \n",
    "    # list of the size of each meteorite that falls each year\n",
    "    meteor_size = {year: [] for year in range(years)}\n",
    "    \n",
    "    # Simulates the meteorite falls for the given number of years\n",
    "    for year in range(years):\n",
    "        num_meteors = meteor_count[year]\n",
    "        \n",
    "        # Simulates the size of each meteorite that falls in this year\n",
    "        for i in range(num_meteors):\n",
    "            mass_group = random.choices(list(meteor_percentage.keys()),\n",
    "                                        weights=list(meteor_percentage.values()),\n",
    "                                        k=1)[0]\n",
    "            \n",
    "            # Randomly selects a size of the meteorite\n",
    "            min_mass, max_mass = meteor_sizes[mass_group]\n",
    "            meteor_mass = np.random.normal((min_mass + max_mass)/2, (max_mass - min_mass)/4)\n",
    "            meteor_mass = max(0, meteor_mass) # Ensure the mass is non-negative\n",
    "            \n",
    "            meteor_size[year].append(meteor_mass)\n",
    "        \n",
    "        # Append the meteorite data to the dataframe\n",
    "        meteor_data2 = pd.concat([meteor_data2, pd.DataFrame({\"year\": [year + 2024]*num_meteors, \"mass\": meteor_size[year]})], ignore_index=True)\n",
    "    \n",
    "    return meteor_data2\n"
   ]
  },
  {
   "cell_type": "code",
   "execution_count": 5,
   "id": "d53a2a29",
   "metadata": {},
   "outputs": [],
   "source": [
    "data = simulate_meteorite_dataset(39)\n",
    "data.to_csv(\"meteorite_data3.csv\", index=False)"
   ]
  },
  {
   "cell_type": "code",
   "execution_count": null,
   "id": "7a56070b",
   "metadata": {},
   "outputs": [],
   "source": []
  }
 ],
 "metadata": {
  "kernelspec": {
   "display_name": "Python 3 (ipykernel)",
   "language": "python",
   "name": "python3"
  },
  "language_info": {
   "codemirror_mode": {
    "name": "ipython",
    "version": 3
   },
   "file_extension": ".py",
   "mimetype": "text/x-python",
   "name": "python",
   "nbconvert_exporter": "python",
   "pygments_lexer": "ipython3",
   "version": "3.10.9"
  }
 },
 "nbformat": 4,
 "nbformat_minor": 5
}
